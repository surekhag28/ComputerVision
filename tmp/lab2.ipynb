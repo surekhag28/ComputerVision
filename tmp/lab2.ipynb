{
  "nbformat": 4,
  "nbformat_minor": 0,
  "metadata": {
    "colab": {
      "name": "lab2.ipynb",
      "provenance": [],
      "collapsed_sections": [],
      "include_colab_link": true
    },
    "kernelspec": {
      "name": "python3",
      "display_name": "Python 3"
    },
    "accelerator": "GPU"
  },
  "cells": [
    {
      "cell_type": "markdown",
      "metadata": {
        "id": "view-in-github",
        "colab_type": "text"
      },
      "source": [
        "<a href=\"https://colab.research.google.com/github/surekhag28/ComputerVision/blob/main/tmp/lab2.ipynb\" target=\"_parent\"><img src=\"https://colab.research.google.com/assets/colab-badge.svg\" alt=\"Open In Colab\"/></a>"
      ]
    },
    {
      "cell_type": "code",
      "metadata": {
        "id": "OEfW3lPjuVRh",
        "colab": {
          "base_uri": "https://localhost:8080/",
          "height": 1000
        },
        "outputId": "7bb1da5a-5413-4fb6-9012-1df69c60b202"
      },
      "source": [
        "\n",
        "import numpy as np\n",
        "import torch\n",
        "from torch.utils.data import sampler\n",
        "from torchvision import datasets, transforms\n",
        "import matplotlib.pyplot as plt\n",
        "import torch.nn as nn\n",
        "import torchvision\n",
        "import numpy as np\n",
        "\n",
        "num_epochs = 20\n",
        "NUM_TRAIN = 59000\n",
        "\n",
        "dev = torch.device(\"cuda:0\" if torch.cuda.is_available() else \"cpu\")\n",
        "print(dev)\n",
        "\n",
        "transform = transforms.Compose([transforms.RandomHorizontalFlip(),\n",
        "                                transforms.RandomCrop(28, padding=4),\n",
        "                                transforms.ToTensor(),\n",
        "                                transforms.Normalize(mean=[0.5],std=[0.5])\n",
        "                            ])\n",
        "\n",
        "test_transform = transforms.Compose([\n",
        "                                transforms.ToTensor(),\n",
        "                                transforms.Normalize(mean=[0.5],std=[0.5])\n",
        "                            ])\n",
        "\n",
        "train_data = datasets.FashionMNIST('F_MNIST_data/', download=True, train=True, transform=transform)\n",
        "train_loader = torch.utils.data.DataLoader(train_data, batch_size=64,\n",
        "                                         sampler=sampler.SubsetRandomSampler(range(NUM_TRAIN)))\n",
        "\n",
        "fashionMnist_val = datasets.FashionMNIST('F_MNIST_data/', train=True, download=True, transform=test_transform)\n",
        "val_loader = torch.utils.data.DataLoader(fashionMnist_val, batch_size=64,\n",
        "                        sampler=sampler.SubsetRandomSampler(range(NUM_TRAIN, 60000)))\n",
        "\n",
        "\n",
        "# Download and load the test data\n",
        "test_data = datasets.FashionMNIST('F_MNIST_data/', download=True, train=False, transform=test_transform)\n",
        "test_loader = torch.utils.data.DataLoader(test_data, batch_size=64, shuffle=True)\n",
        "\n",
        "\n",
        "\n",
        "class CNN(nn.Module):\n",
        "    def __init__(self):\n",
        "        super(CNN, self).__init__()\n",
        "        self.layer1 = nn.Sequential(\n",
        "            nn.Conv2d(1, 32, kernel_size=5, stride =1, padding=2),\n",
        "            nn.ReLU(),\n",
        "            nn.BatchNorm2d(32),\n",
        "            nn.MaxPool2d(kernel_size = 2, stride=2))\n",
        "        self.layer2 = nn.Sequential(\n",
        "            nn.Conv2d(32, 64, kernel_size=3, stride=1, padding=1),\n",
        "            nn.ReLU(),\n",
        "            nn.BatchNorm2d(64),\n",
        "            nn.MaxPool2d(kernel_size = 2, stride=2))\n",
        "        self.fc1 = nn.Linear(64 * 7 * 7, 1024)\n",
        "        self.relu = nn.ReLU()\n",
        "        self.fc2 = nn.Linear(1024, 10)\n",
        "\n",
        "    def forward(self, x):\n",
        "        out = self.layer1(x)\n",
        "        out = self.layer2(out)\n",
        "        out = out.view(out.size(0), -1)\n",
        "        out = self.relu(self.fc1(out))\n",
        "        out = self.fc2(out)\n",
        "        return out\n",
        "\n",
        "model = CNN()\n",
        "model = model.to(dev)\n",
        "\n",
        "criterion = nn.CrossEntropyLoss()\n",
        "optimizer = torch.optim.Adam(model.parameters(), lr=0.001, betas=(0.9, 0.999))\n",
        "\n",
        "total_step = len(train_loader)\n",
        "train_losses, val_losses, train_accs, val_accs = [],[],[],[]\n",
        "\n",
        "for epoch in range(num_epochs):\n",
        "    train_loss = 0\n",
        "    val_loss = 0\n",
        "    train_acc = 0\n",
        "    val_acc = 0\n",
        "    for images,labels in train_loader:\n",
        "        images = images.to(dev)\n",
        "        labels = labels.to(dev)\n",
        "\n",
        "        # Forward pass\n",
        "        outputs = model(images)\n",
        "        loss = criterion(outputs, labels)\n",
        "        train_loss += loss.item()\n",
        "\n",
        "        # Backward and optimize\n",
        "        optimizer.zero_grad()\n",
        "        loss.backward()\n",
        "        optimizer.step()\n",
        "\n",
        "        # Track the accuracy\n",
        "\n",
        "        total = labels.size(0)\n",
        "        _, predicted = torch.max(outputs.data, 1)\n",
        "        correct = (predicted == labels).sum().item()\n",
        "        train_acc += float(correct) / float(total)\n",
        "    else:\n",
        "        with torch.no_grad():\n",
        "            model.eval()\n",
        "            for images,labels in val_loader:\n",
        "                images = images.to(dev)\n",
        "                labels = labels.to(dev)\n",
        "\n",
        "                val_out = model(images)\n",
        "                loss = criterion(val_out, labels)\n",
        "                val_loss += loss.item()\n",
        "\n",
        "                total = labels.size(0)\n",
        "                _, predicted = torch.max(val_out.data, 1)\n",
        "                correct = (predicted == labels).sum().item()\n",
        "                val_acc += float(correct) / float(total)\n",
        "        model.train()\n",
        "\n",
        "    print(\"Epoch: {}/{}.. \".format(epoch, num_epochs),\n",
        "              \"Training Loss: {:.3f}.. \".format(train_loss/len(train_loader)),\n",
        "              \"Validation Loss: {:.3f}.. \".format(val_loss/len(val_loader)),\n",
        "              \"Training Accuracy: {: .3f}.. \".format(train_acc/len(train_loader)*100),\n",
        "              \"Validation Accuracy: {:.3f}\".format(val_acc/len(val_loader)*100))\n",
        "\n",
        "    train_losses.append(train_loss/len(train_loader))\n",
        "    val_losses.append(val_loss/len(val_loader))\n",
        "    train_accs.append(train_acc/len(train_loader)*100)\n",
        "    val_accs.append(val_acc/len(val_loader)*100)\n",
        "\n",
        "plt.figure()           \n",
        "plt.plot(train_losses,label = \"Train losses\")\n",
        "plt.plot(val_losses, label = \"Validation losses\")\n",
        "plt.legend()\n",
        "plt.show()\n",
        "\n",
        "plt.figure()\n",
        "plt.plot(train_accs,label = \"Train accuracy\")\n",
        "plt.plot(val_accs, label = \"Validation accuracy\")\n",
        "plt.legend() \n",
        "plt.show()   \n",
        "\n",
        "\n",
        "model.eval()  \n",
        "\n",
        "with torch.no_grad():\n",
        "    correct = 0\n",
        "    total = 0\n",
        "  for images, labels in test_loader:\n",
        "          images = images.to(dev)\n",
        "          labels = labels.to(dev)\n",
        "          outputs = model(images)\n",
        "          _, predicted = torch.max(outputs.data, 1)\n",
        "          total += labels.size(0)\n",
        "          correct += (predicted == labels).sum().item()\n",
        "\n",
        "print('Test Accuracy of the model on the 10000 test images: {} %'.format(100 * correct / total))\n"
      ],
      "execution_count": null,
      "outputs": [
        {
          "output_type": "stream",
          "text": [
            "  0%|          | 98304/26421880 [00:00<00:27, 971368.67it/s]"
          ],
          "name": "stderr"
        },
        {
          "output_type": "stream",
          "text": [
            "cuda:0\n",
            "Downloading http://fashion-mnist.s3-website.eu-central-1.amazonaws.com/train-images-idx3-ubyte.gz to F_MNIST_data/FashionMNIST/raw/train-images-idx3-ubyte.gz\n"
          ],
          "name": "stdout"
        },
        {
          "output_type": "stream",
          "text": [
            "26427392it [00:00, 83060210.94it/s]                             \n"
          ],
          "name": "stderr"
        },
        {
          "output_type": "stream",
          "text": [
            "Extracting F_MNIST_data/FashionMNIST/raw/train-images-idx3-ubyte.gz\n"
          ],
          "name": "stdout"
        },
        {
          "output_type": "stream",
          "text": [
            "32768it [00:00, 602142.18it/s]\n",
            " 20%|██        | 892928/4422102 [00:00<00:00, 8696749.02it/s]"
          ],
          "name": "stderr"
        },
        {
          "output_type": "stream",
          "text": [
            "Downloading http://fashion-mnist.s3-website.eu-central-1.amazonaws.com/train-labels-idx1-ubyte.gz to F_MNIST_data/FashionMNIST/raw/train-labels-idx1-ubyte.gz\n",
            "Extracting F_MNIST_data/FashionMNIST/raw/train-labels-idx1-ubyte.gz\n",
            "Downloading http://fashion-mnist.s3-website.eu-central-1.amazonaws.com/t10k-images-idx3-ubyte.gz to F_MNIST_data/FashionMNIST/raw/t10k-images-idx3-ubyte.gz\n"
          ],
          "name": "stdout"
        },
        {
          "output_type": "stream",
          "text": [
            "4423680it [00:00, 30515718.52it/s]                           \n",
            "8192it [00:00, 202135.13it/s]\n"
          ],
          "name": "stderr"
        },
        {
          "output_type": "stream",
          "text": [
            "Extracting F_MNIST_data/FashionMNIST/raw/t10k-images-idx3-ubyte.gz\n",
            "Downloading http://fashion-mnist.s3-website.eu-central-1.amazonaws.com/t10k-labels-idx1-ubyte.gz to F_MNIST_data/FashionMNIST/raw/t10k-labels-idx1-ubyte.gz\n",
            "Extracting F_MNIST_data/FashionMNIST/raw/t10k-labels-idx1-ubyte.gz\n",
            "Processing...\n",
            "Done!\n",
            "Epoch: 0/20..  Training Loss: 0.538..  Validation Loss: 0.385..  Training Accuracy:  80.026..  Validation Accuracy: 84.902\n",
            "Epoch: 1/20..  Training Loss: 0.383..  Validation Loss: 0.329..  Training Accuracy:  85.793..  Validation Accuracy: 88.145\n",
            "Epoch: 2/20..  Training Loss: 0.340..  Validation Loss: 0.298..  Training Accuracy:  87.341..  Validation Accuracy: 88.828\n",
            "Epoch: 3/20..  Training Loss: 0.315..  Validation Loss: 0.279..  Training Accuracy:  88.394..  Validation Accuracy: 88.438\n",
            "Epoch: 4/20..  Training Loss: 0.296..  Validation Loss: 0.288..  Training Accuracy:  88.946..  Validation Accuracy: 89.629\n",
            "Epoch: 5/20..  Training Loss: 0.285..  Validation Loss: 0.293..  Training Accuracy:  89.601..  Validation Accuracy: 89.883\n",
            "Epoch: 6/20..  Training Loss: 0.276..  Validation Loss: 0.266..  Training Accuracy:  89.766..  Validation Accuracy: 90.664\n",
            "Epoch: 7/20..  Training Loss: 0.264..  Validation Loss: 0.255..  Training Accuracy:  90.273..  Validation Accuracy: 89.941\n",
            "Epoch: 8/20..  Training Loss: 0.257..  Validation Loss: 0.250..  Training Accuracy:  90.485..  Validation Accuracy: 90.918\n",
            "Epoch: 9/20..  Training Loss: 0.251..  Validation Loss: 0.240..  Training Accuracy:  90.773..  Validation Accuracy: 90.469\n",
            "Epoch: 10/20..  Training Loss: 0.245..  Validation Loss: 0.208..  Training Accuracy:  90.828..  Validation Accuracy: 92.031\n",
            "Epoch: 11/20..  Training Loss: 0.239..  Validation Loss: 0.254..  Training Accuracy:  91.181..  Validation Accuracy: 89.609\n",
            "Epoch: 12/20..  Training Loss: 0.234..  Validation Loss: 0.243..  Training Accuracy:  91.360..  Validation Accuracy: 91.582\n",
            "Epoch: 13/20..  Training Loss: 0.229..  Validation Loss: 0.202..  Training Accuracy:  91.468..  Validation Accuracy: 92.402\n",
            "Epoch: 14/20..  Training Loss: 0.224..  Validation Loss: 0.234..  Training Accuracy:  91.722..  Validation Accuracy: 90.566\n",
            "Epoch: 15/20..  Training Loss: 0.221..  Validation Loss: 0.200..  Training Accuracy:  91.729..  Validation Accuracy: 92.676\n",
            "Epoch: 16/20..  Training Loss: 0.221..  Validation Loss: 0.200..  Training Accuracy:  91.851..  Validation Accuracy: 91.816\n",
            "Epoch: 17/20..  Training Loss: 0.210..  Validation Loss: 0.204..  Training Accuracy:  92.331..  Validation Accuracy: 91.738\n",
            "Epoch: 18/20..  Training Loss: 0.210..  Validation Loss: 0.211..  Training Accuracy:  92.234..  Validation Accuracy: 91.699\n",
            "Epoch: 19/20..  Training Loss: 0.208..  Validation Loss: 0.226..  Training Accuracy:  92.232..  Validation Accuracy: 92.051\n"
          ],
          "name": "stdout"
        },
        {
          "output_type": "display_data",
          "data": {
            "image/png": "[encoded data removed]",
            "text/plain": [
              "<Figure size 432x288 with 1 Axes>"
            ]
          },
          "metadata": {
            "tags": []
          }
        },
        {
          "output_type": "display_data",
          "data": {
            "image/png": "[encoded data removed]",
            "text/plain": [
              "<Figure size 432x288 with 1 Axes>"
            ]
          },
          "metadata": {
            "tags": []
          }
        },
        {
          "output_type": "stream",
          "text": [
            "Test Accuracy of the model on the 10000 test images: 91.3 %\n"
          ],
          "name": "stdout"
        }
      ]
    }
  ]
}